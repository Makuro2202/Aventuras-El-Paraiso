{
 "cells": [
  {
   "cell_type": "code",
   "execution_count": 2,
   "metadata": {},
   "outputs": [],
   "source": [
    "import sqlite3"
   ]
  },
  {
   "cell_type": "markdown",
   "metadata": {},
   "source": [
    "##### Registrar la información"
   ]
  },
  {
   "cell_type": "code",
   "execution_count": null,
   "metadata": {},
   "outputs": [],
   "source": [
    "def registrar(numResvacion, nombre, nacionalidad, edad, horario, teleferico, asiento, fecha):\n",
    "    conn = sqlite3.connect(\"elParaiso.db\")\n",
    "    cursor = conn.cursor()\n",
    "    query = f\"INSERT INTO reservas VALUES (NULL,{numResvacion},'{nombre}',{nacionalidad},{edad},{horario},{teleferico},{asiento},'{fecha}')\"\n",
    "    cursor.execute(query)\n",
    "    conn.commit()\n",
    "    conn.close()\n",
    "registrar(4,\"Juan\",1,29,1,1,1,\"10/07/2022\")"
   ]
  },
  {
   "cell_type": "markdown",
   "metadata": {},
   "source": [
    "##### Consultar la información"
   ]
  },
  {
   "cell_type": "code",
   "execution_count": 3,
   "metadata": {},
   "outputs": [
    {
     "data": {
      "text/plain": [
       "[(3,), (4,), (5,)]"
      ]
     },
     "execution_count": 3,
     "metadata": {},
     "output_type": "execute_result"
    }
   ],
   "source": [
    "def consultar(query):#el parmetro query almacenara la consulta sql\n",
    "    conn = sqlite3.connect(\"elParaiso.db\") # conecta con la base de datos\n",
    "    cursor = conn.cursor() # el cursor \"selecionara\" los registros que le indiqueca la consulta\n",
    "    cursor.execute(query) # ejecuta lo que le pasa el parametro query (la consulta)\n",
    "    datos = cursor.fetchall() # fetchall extrapasa la infomacion a la variable datos\n",
    "    conn.close() # cierra la coneccion con la base de datos\n",
    "    return datos\n",
    "consultar(f\"SELECT DISTINCT num_reservacion FROM reservas ORDER BY num_reservacion\")"
   ]
  },
  {
   "cell_type": "code",
   "execution_count": null,
   "metadata": {},
   "outputs": [],
   "source": [
    "def datos_factura(r):\n",
    "    c=f\"SELECT nombre, edad, nacionalidad, num_reservacion FROM reservas WHERE num_reservacion={r}\"\n",
    "    return consultar(c)\n",
    "datos_factura(4)"
   ]
  },
  {
   "cell_type": "code",
   "execution_count": null,
   "metadata": {},
   "outputs": [],
   "source": [
    "def espacios_disponibles(numero_de_horario):\n",
    "    q = f\"SELECT COUNT(asiento) FROM reservas WHERE horario = {numero_de_horario}\"\n",
    "    #q cuenta los asientos de un horario dado\n",
    "    t = 18 #numero total de espacios por horario 6 pasajeros 3 telefericos 18\n",
    "    o = consultar(q)[0][0] #asientos ocupados\n",
    "    return t-o #total menos ocupados da los disponibles\n",
    "espacios_disponibles(1)\n",
    "\n",
    "#   [1] 8:00 am\n",
    "#   [2] 10:00 am\n",
    "#   [3] 12:00 md\n",
    "#   [4] 2:00 pm"
   ]
  },
  {
   "cell_type": "code",
   "execution_count": 8,
   "metadata": {},
   "outputs": [
    {
     "data": {
      "text/plain": [
       "[(2, 2), (5, 1)]"
      ]
     },
     "execution_count": 8,
     "metadata": {},
     "output_type": "execute_result"
    }
   ],
   "source": [
    "consultar(f\"SELECT COUNT(asiento), horario FROM reservas GROUP BY horario ORDER BY COUNT(asiento)\")"
   ]
  },
  {
   "cell_type": "code",
   "execution_count": 9,
   "metadata": {},
   "outputs": [
    {
     "ename": "OperationalError",
     "evalue": "near \"WHERE\": syntax error",
     "output_type": "error",
     "traceback": [
      "\u001b[1;31m---------------------------------------------------------------------------\u001b[0m",
      "\u001b[1;31mOperationalError\u001b[0m                          Traceback (most recent call last)",
      "\u001b[1;32mc:\\Users\\marck\\OneDrive\\Documentos\\fidelitas\\Programacion Basica\\Aventuras El Paraiso\\test.ipynb Celda 9\u001b[0m in \u001b[0;36m<cell line: 1>\u001b[1;34m()\u001b[0m\n\u001b[1;32m----> <a href='vscode-notebook-cell:/c%3A/Users/marck/OneDrive/Documentos/fidelitas/Programacion%20Basica/Aventuras%20El%20Paraiso/test.ipynb#ch0000008?line=0'>1</a>\u001b[0m consultar(\u001b[39mf\u001b[39;49m\u001b[39m\"\u001b[39;49m\u001b[39mSELECT COUNT(asiento WHERE horario = (1, 2, 3, 4, 5)), horario FROM reservas GROUP BY horario ORDER BY COUNT(asiento)\u001b[39;49m\u001b[39m\"\u001b[39;49m)\n",
      "\u001b[1;32mc:\\Users\\marck\\OneDrive\\Documentos\\fidelitas\\Programacion Basica\\Aventuras El Paraiso\\test.ipynb Celda 9\u001b[0m in \u001b[0;36mconsultar\u001b[1;34m(query)\u001b[0m\n\u001b[0;32m      <a href='vscode-notebook-cell:/c%3A/Users/marck/OneDrive/Documentos/fidelitas/Programacion%20Basica/Aventuras%20El%20Paraiso/test.ipynb#ch0000008?line=1'>2</a>\u001b[0m conn \u001b[39m=\u001b[39m sqlite3\u001b[39m.\u001b[39mconnect(\u001b[39m\"\u001b[39m\u001b[39melParaiso.db\u001b[39m\u001b[39m\"\u001b[39m) \u001b[39m# conecta con la base de datos\u001b[39;00m\n\u001b[0;32m      <a href='vscode-notebook-cell:/c%3A/Users/marck/OneDrive/Documentos/fidelitas/Programacion%20Basica/Aventuras%20El%20Paraiso/test.ipynb#ch0000008?line=2'>3</a>\u001b[0m cursor \u001b[39m=\u001b[39m conn\u001b[39m.\u001b[39mcursor() \u001b[39m# el cursor \"selecionara\" los registros que le indiqueca la consulta\u001b[39;00m\n\u001b[1;32m----> <a href='vscode-notebook-cell:/c%3A/Users/marck/OneDrive/Documentos/fidelitas/Programacion%20Basica/Aventuras%20El%20Paraiso/test.ipynb#ch0000008?line=3'>4</a>\u001b[0m cursor\u001b[39m.\u001b[39;49mexecute(query) \u001b[39m# ejecuta lo que le pasa el parametro query (la consulta)\u001b[39;00m\n\u001b[0;32m      <a href='vscode-notebook-cell:/c%3A/Users/marck/OneDrive/Documentos/fidelitas/Programacion%20Basica/Aventuras%20El%20Paraiso/test.ipynb#ch0000008?line=4'>5</a>\u001b[0m datos \u001b[39m=\u001b[39m cursor\u001b[39m.\u001b[39mfetchall() \u001b[39m# fetchall extrapasa la infomacion a la variable datos\u001b[39;00m\n\u001b[0;32m      <a href='vscode-notebook-cell:/c%3A/Users/marck/OneDrive/Documentos/fidelitas/Programacion%20Basica/Aventuras%20El%20Paraiso/test.ipynb#ch0000008?line=5'>6</a>\u001b[0m conn\u001b[39m.\u001b[39mclose() \u001b[39m# cierra la coneccion con la base de datos\u001b[39;00m\n",
      "\u001b[1;31mOperationalError\u001b[0m: near \"WHERE\": syntax error"
     ]
    }
   ],
   "source": [
    "consultar(f\"SELECT COUNT(asiento), horario FROM reservas GROUP BY horario WHERE horario IN ( 1, 2, 3, 4, 5) ORDER BY COUNT(asiento)\")"
   ]
  }
 ],
 "metadata": {
  "kernelspec": {
   "display_name": "Python 3.10.4 64-bit",
   "language": "python",
   "name": "python3"
  },
  "language_info": {
   "codemirror_mode": {
    "name": "ipython",
    "version": 3
   },
   "file_extension": ".py",
   "mimetype": "text/x-python",
   "name": "python",
   "nbconvert_exporter": "python",
   "pygments_lexer": "ipython3",
   "version": "3.10.4"
  },
  "orig_nbformat": 4,
  "vscode": {
   "interpreter": {
    "hash": "eb2538f241819bcd5816a473a9f661e7d68f2c146843aba498b5d00ba82e7f1f"
   }
  }
 },
 "nbformat": 4,
 "nbformat_minor": 2
}
